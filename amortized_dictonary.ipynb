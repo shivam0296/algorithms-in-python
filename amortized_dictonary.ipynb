{
 "cells": [
  {
   "cell_type": "code",
   "execution_count": 1,
   "id": "619f70f9",
   "metadata": {},
   "outputs": [],
   "source": [
    "# shimish@iu.edu\n",
    "# Amortized Dictonary data Structure\n",
    "\n",
    "class amor_dict:\n",
    "    \n",
    "    def __init__(self, arr=[]):\n",
    "        \"\"\"\n",
    "        performing Preprocessing and Construction in init\n",
    "        \"\"\"\n",
    "        self.arr = arr\n",
    "        self.list_collection = {}\n",
    "        self.arr_len = len(self.arr)\n",
    "        self.bin_rep = bin(self.arr_len)[2:]\n",
    "        for i, s in enumerate(reversed(self.bin_rep)):\n",
    "            if s == '1':\n",
    "                n = 2**i\n",
    "                self.list_collection[i] = sorted(self.arr[:n])\n",
    "                self.arr = self.arr[n:]\n",
    "            else:\n",
    "                self.list_collection[i] = []\n",
    "        \n",
    "    \n",
    "    def insert(self, num):\n",
    "        \"\"\"\n",
    "        Inserting an element in the dictonary\n",
    "        \"\"\"\n",
    "        def merge_sorted(arr1, arr2):\n",
    "            \"\"\"\n",
    "            Function to merge to sorted lists\n",
    "            \"\"\"\n",
    "            res = []\n",
    "            i, j = 0, 0\n",
    "            n1, n2 = len(arr1), len(arr2)\n",
    "            while i < n1 and j < n2:\n",
    "                if arr1[i] > arr2[j]:\n",
    "                    res.append(arr2[j])\n",
    "                    j += 1\n",
    "                else:\n",
    "                    res.append(arr1[i])\n",
    "                    i += 1\n",
    "            if i == n1:\n",
    "                res.extend(arr2[j:])\n",
    "            else:\n",
    "                res.extend(arr1[i:])\n",
    "            return res\n",
    "        \n",
    "        temp = []\n",
    "        for i, arr in self.list_collection.items():\n",
    "            \n",
    "            if len(temp) == 0:\n",
    "                if len(arr) == 0:\n",
    "                    arr.append(num)\n",
    "                    break\n",
    "                else:\n",
    "                    temp = merge_sorted(arr, [num])\n",
    "                    self.list_collection[i] = []\n",
    "            else:\n",
    "                if len(arr) == 0:\n",
    "                    self.list_collection[i] = temp\n",
    "                    break\n",
    "                else:\n",
    "                    temp = merge_sorted(arr, temp)\n",
    "                    self.list_collection[i] = []\n",
    "            \n",
    "        if len(self.list_collection[len(self.list_collection) - 1]) == 0:\n",
    "            self.list_collection[len(self.list_collection)] = temp\n",
    "\n",
    "    \n",
    "    def search(self, num):\n",
    "        \"\"\"\n",
    "        Search an element in the dictonary \n",
    "        \"\"\"\n",
    "        def bin_search(arr, num, l, h):\n",
    "            \"\"\"\n",
    "            Binry search to implement search at a particular level\n",
    "            \"\"\"\n",
    "            if l > h:\n",
    "                return False\n",
    "            mid = (l + h)//2\n",
    "            if arr[mid] == num:\n",
    "                return True\n",
    "            elif arr[mid] > num:\n",
    "                return bin_search(arr, num, l, mid - 1)\n",
    "            else:\n",
    "                return bin_search(arr, num , mid + 1, h)\n",
    "            \n",
    "        for i, arr in self.list_collection.items():\n",
    "            if len(arr) != 0:\n",
    "                l, h = 0, 2**i - 1\n",
    "                res = bin_search(arr, num, l, h)\n",
    "                if res:\n",
    "                    return i\n",
    "        return -1\n",
    "    \n",
    "    def print(self):\n",
    "        return self.list_collection\n"
   ]
  },
  {
   "cell_type": "code",
   "execution_count": 2,
   "id": "f321db34",
   "metadata": {},
   "outputs": [
    {
     "data": {
      "text/plain": [
       "{0: [], 1: [], 2: [12, 23, 24, 42]}"
      ]
     },
     "execution_count": 2,
     "metadata": {},
     "output_type": "execute_result"
    }
   ],
   "source": [
    "amor_obj = amor_dict([23, 12 ,24, 42])\n",
    "amor_obj.print()"
   ]
  },
  {
   "cell_type": "code",
   "execution_count": 3,
   "id": "c0ad0988",
   "metadata": {},
   "outputs": [
    {
     "data": {
      "text/plain": [
       "{0: [11], 1: [], 2: [12, 23, 24, 42]}"
      ]
     },
     "execution_count": 3,
     "metadata": {},
     "output_type": "execute_result"
    }
   ],
   "source": [
    "amor_obj.insert(11)\n",
    "amor_obj.print()"
   ]
  },
  {
   "cell_type": "code",
   "execution_count": 4,
   "id": "7b6447c1",
   "metadata": {},
   "outputs": [
    {
     "data": {
      "text/plain": [
       "{0: [], 1: [11, 74], 2: [12, 23, 24, 42]}"
      ]
     },
     "execution_count": 4,
     "metadata": {},
     "output_type": "execute_result"
    }
   ],
   "source": [
    "amor_obj.insert(74)\n",
    "amor_obj.print()"
   ]
  },
  {
   "cell_type": "code",
   "execution_count": 5,
   "id": "228de9f8",
   "metadata": {},
   "outputs": [
    {
     "data": {
      "text/plain": [
       "1"
      ]
     },
     "execution_count": 5,
     "metadata": {},
     "output_type": "execute_result"
    }
   ],
   "source": [
    "amor_obj.search(74)"
   ]
  },
  {
   "cell_type": "code",
   "execution_count": 221,
   "id": "72445252",
   "metadata": {},
   "outputs": [
    {
     "data": {
      "text/plain": [
       "-1"
      ]
     },
     "execution_count": 221,
     "metadata": {},
     "output_type": "execute_result"
    }
   ],
   "source": [
    "amor_obj.search(77)"
   ]
  }
 ],
 "metadata": {
  "kernelspec": {
   "display_name": "Python 3 (ipykernel)",
   "language": "python",
   "name": "python3"
  },
  "language_info": {
   "codemirror_mode": {
    "name": "ipython",
    "version": 3
   },
   "file_extension": ".py",
   "mimetype": "text/x-python",
   "name": "python",
   "nbconvert_exporter": "python",
   "pygments_lexer": "ipython3",
   "version": "3.9.12"
  },
  "vscode": {
   "interpreter": {
    "hash": "aee8b7b246df8f9039afb4144a1f6fd8d2ca17a180786b69acc140d282b71a49"
   }
  }
 },
 "nbformat": 4,
 "nbformat_minor": 5
}
