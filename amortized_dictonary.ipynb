{
 "cells": [
  {
   "cell_type": "code",
   "execution_count": 216,
   "id": "619f70f9",
   "metadata": {},
   "outputs": [],
   "source": [
    "#shimish\n",
    "#Sol 1\n",
    "\n",
    "class amor_dict:\n",
    "    \n",
    "    def __init__(self, arr=[]):\n",
    "        \"\"\"\n",
    "        Doing the preprocessing and construction in init\n",
    "        \"\"\"\n",
    "        self.arr = arr\n",
    "        self.list_collection = {}\n",
    "        self.arr_len = len(self.arr)\n",
    "        self.bin_rep = bin(self.arr_len)[2:]\n",
    "        for i, s in enumerate(reversed(self.bin_rep)):\n",
    "            if s == '1':\n",
    "                n = 2**i\n",
    "                self.list_collection[i] = sorted(self.arr[:n])\n",
    "                self.arr = self.arr[n:]\n",
    "            else:\n",
    "                self.list_collection[i] = []\n",
    "        \n",
    "    \n",
    "    def insert(self, num):\n",
    "        def merge_sorted(arr1, arr2):\n",
    "            res = []\n",
    "            i, j = 0, 0\n",
    "            n1, n2 = len(arr1), len(arr2)\n",
    "            while i < n1 and j < n2:\n",
    "                if arr1[i] > arr2[j]:\n",
    "                    res.append(arr2[j])\n",
    "                    j += 1\n",
    "                else:\n",
    "                    res.append(arr1[i])\n",
    "                    i += 1\n",
    "            if i == n1:\n",
    "                res.extend(arr2[j:])\n",
    "            else:\n",
    "                res.extend(arr1[i:])\n",
    "            return res\n",
    "        temp = []\n",
    "        for i, arr in self.list_collection.items():\n",
    "            \n",
    "            if len(temp) == 0:\n",
    "                if len(arr) == 0:\n",
    "                    arr.append(num)\n",
    "                    break\n",
    "                else:\n",
    "                    temp = merge_sorted(arr, [num])\n",
    "                    self.list_collection[i] = []\n",
    "            else:\n",
    "                if len(arr) == 0:\n",
    "                    self.list_collection[i] = temp\n",
    "                    break\n",
    "                else:\n",
    "                    temp = merge_sorted(arr, temp)\n",
    "                    self.list_collection[i] = []\n",
    "            \n",
    "        if len(self.list_collection[len(self.list_collection) - 1]) == 0:\n",
    "            self.list_collection[len(self.list_collection)] = temp\n",
    "\n",
    "    \n",
    "    def search(self, num):\n",
    "        \n",
    "        def bin_search(arr, num, l, h):\n",
    "            if l > h:\n",
    "                return False\n",
    "            mid = (l + h)//2\n",
    "            if arr[mid] == num:\n",
    "                return True\n",
    "            elif arr[mid] > num:\n",
    "                return bin_search(arr, num, l, mid - 1)\n",
    "            else:\n",
    "                return bin_search(arr, num , mid + 1, h)\n",
    "            \n",
    "        for i, arr in self.list_collection.items():\n",
    "            if len(arr) != 0:\n",
    "                l, h = 0, 2**i - 1\n",
    "                res = bin_search(arr, num, l, h)\n",
    "                if res:\n",
    "                    return i\n",
    "        return -1\n",
    "    \n",
    "    def print(self):\n",
    "        return self.list_collection\n"
   ]
  },
  {
   "cell_type": "code",
   "execution_count": 217,
   "id": "f321db34",
   "metadata": {},
   "outputs": [
    {
     "data": {
      "text/plain": [
       "{0: [], 1: [], 2: [12, 23, 24, 42]}"
      ]
     },
     "execution_count": 217,
     "metadata": {},
     "output_type": "execute_result"
    }
   ],
   "source": [
    "amor_obj = amor_dict([23, 12 ,24, 42])\n",
    "amor_obj.print()"
   ]
  },
  {
   "cell_type": "code",
   "execution_count": 218,
   "id": "c0ad0988",
   "metadata": {},
   "outputs": [
    {
     "data": {
      "text/plain": [
       "{0: [11], 1: [], 2: [12, 23, 24, 42]}"
      ]
     },
     "execution_count": 218,
     "metadata": {},
     "output_type": "execute_result"
    }
   ],
   "source": [
    "amor_obj.insert(11)\n",
    "amor_obj.print()"
   ]
  },
  {
   "cell_type": "code",
   "execution_count": 219,
   "id": "7b6447c1",
   "metadata": {},
   "outputs": [
    {
     "data": {
      "text/plain": [
       "{0: [], 1: [11, 74], 2: [12, 23, 24, 42]}"
      ]
     },
     "execution_count": 219,
     "metadata": {},
     "output_type": "execute_result"
    }
   ],
   "source": [
    "amor_obj.insert(74)\n",
    "amor_obj.print()"
   ]
  },
  {
   "cell_type": "code",
   "execution_count": 220,
   "id": "228de9f8",
   "metadata": {},
   "outputs": [
    {
     "data": {
      "text/plain": [
       "1"
      ]
     },
     "execution_count": 220,
     "metadata": {},
     "output_type": "execute_result"
    }
   ],
   "source": [
    "amor_obj.search(74)"
   ]
  },
  {
   "cell_type": "code",
   "execution_count": 221,
   "id": "72445252",
   "metadata": {},
   "outputs": [
    {
     "data": {
      "text/plain": [
       "-1"
      ]
     },
     "execution_count": 221,
     "metadata": {},
     "output_type": "execute_result"
    }
   ],
   "source": [
    "amor_obj.search(77)"
   ]
  },
  {
   "cell_type": "code",
   "execution_count": null,
   "id": "e2adba59",
   "metadata": {},
   "outputs": [],
   "source": []
  },
  {
   "cell_type": "code",
   "execution_count": null,
   "id": "dd4d5af0",
   "metadata": {},
   "outputs": [],
   "source": []
  },
  {
   "cell_type": "code",
   "execution_count": null,
   "id": "d32820f5",
   "metadata": {},
   "outputs": [],
   "source": []
  },
  {
   "cell_type": "code",
   "execution_count": null,
   "id": "25696839",
   "metadata": {},
   "outputs": [],
   "source": []
  }
 ],
 "metadata": {
  "kernelspec": {
   "display_name": "Python 3.10.7 64-bit",
   "language": "python",
   "name": "python3"
  },
  "language_info": {
   "codemirror_mode": {
    "name": "ipython",
    "version": 3
   },
   "file_extension": ".py",
   "mimetype": "text/x-python",
   "name": "python",
   "nbconvert_exporter": "python",
   "pygments_lexer": "ipython3",
   "version": "3.10.7"
  },
  "vscode": {
   "interpreter": {
    "hash": "aee8b7b246df8f9039afb4144a1f6fd8d2ca17a180786b69acc140d282b71a49"
   }
  }
 },
 "nbformat": 4,
 "nbformat_minor": 5
}
