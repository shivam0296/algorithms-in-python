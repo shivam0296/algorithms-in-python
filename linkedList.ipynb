{
 "cells": [
  {
   "cell_type": "code",
   "execution_count": 7,
   "id": "9b242959",
   "metadata": {},
   "outputs": [],
   "source": [
    "# Linked list implementation"
   ]
  },
  {
   "cell_type": "code",
   "execution_count": 8,
   "id": "f011bacc",
   "metadata": {},
   "outputs": [],
   "source": [
    "\n",
    "class Node:\n",
    "    def __init__(self, num):\n",
    "        self.num = num\n",
    "        self.next = None\n",
    "        \n",
    "class Linked_List:\n",
    "    \n",
    "    def __init__(self):\n",
    "        self.head = None\n",
    "        \n",
    "    def insertFirst(self, val):\n",
    "        \n",
    "        new_node = Node(val)\n",
    "        \n",
    "        if self.head == None:\n",
    "            self.head = new_node\n",
    "            \n",
    "        else:\n",
    "            new_node.next = self.head\n",
    "            self.head = new_node\n",
    "        \n",
    "    \n",
    "    def insert(self, val, pos):\n",
    "        \n",
    "        curr = self.head\n",
    "        \n",
    "        while curr != None:\n",
    "            if curr.num == pos:\n",
    "                break\n",
    "            curr = curr.next\n",
    "             \n",
    "        new_node = Node(val)\n",
    "        new_node.next = curr.next\n",
    "        curr.next = new_node\n",
    "        \n",
    "    def delete(self, ele):\n",
    "        \n",
    "        curr = self.head\n",
    "        \n",
    "        while curr is not None:\n",
    "            if curr.num == ele:\n",
    "                break\n",
    "            prev = curr\n",
    "            curr = curr.next\n",
    "            \n",
    "        if curr == None:\n",
    "            return\n",
    "        \n",
    "        prev.next = curr.next\n",
    "        curr.next = None\n",
    "        \n",
    "    def update(self, search, replace):\n",
    "        \n",
    "        curr = self.head\n",
    "        \n",
    "        while curr is not None:\n",
    "            if curr.num == search:\n",
    "                break\n",
    "            curr = curr.next\n",
    "            \n",
    "            if curr is None:\n",
    "                return\n",
    "            \n",
    "            curr.num = replace\n",
    "            \n",
    "    def search(self, pos):\n",
    "        \n",
    "        curr = self.head\n",
    "        \n",
    "        while curr != None:\n",
    "            if curr.num == pos:\n",
    "                return True\n",
    "            curr = curr.next\n",
    "            \n",
    "        return False\n",
    "        \n",
    "    def merge(self, ll2):\n",
    "        \n",
    "        curr2 = ll2\n",
    "        curr1 = self.head\n",
    "        \n",
    "        newl = Linked_List()\n",
    "        \n",
    "        while curr1 != None and curr2 != None:\n",
    "            if curr1.num < curr2.num:\n",
    "                newl.insertFirst(curr2.num)\n",
    "                curr2 = curr2.next\n",
    "            else:\n",
    "                newl.insertFirst(curr1.num)\n",
    "                curr1 = curr1.next\n",
    "                \n",
    "        if curr1 != None:\n",
    "            while curr1 != None:\n",
    "                newl.insertFirst(curr1.num)\n",
    "                curr1 = curr1.next\n",
    "        else:\n",
    "            while curr2 != None:\n",
    "                newl.insertFirst(curr2.num)\n",
    "                curr2 = curr2.next\n",
    "                \n",
    "        return newl   \n",
    "        \n",
    "    \n",
    "    def print_ll(self):\n",
    "        \n",
    "        curr = self.head\n",
    "        \n",
    "        while curr != None:\n",
    "            print(curr.num, end=\"-->\")\n",
    "            curr = curr.next\n",
    "            \n",
    "    "
   ]
  },
  {
   "cell_type": "code",
   "execution_count": 12,
   "id": "07c6f36d",
   "metadata": {},
   "outputs": [
    {
     "name": "stdout",
     "output_type": "stream",
     "text": [
      "14-->11-->10-->8-->5-->"
     ]
    }
   ],
   "source": [
    "ll = Linked_List()\n",
    "\n",
    "ll.insertFirst(5)\n",
    "ll.insertFirst(8)\n",
    "ll.insertFirst(10)\n",
    "ll.insertFirst(11)\n",
    "ll.insertFirst(14)\n",
    "\n",
    "ll.print_ll()\n"
   ]
  },
  {
   "cell_type": "code",
   "execution_count": 13,
   "id": "1f81583e",
   "metadata": {},
   "outputs": [
    {
     "name": "stdout",
     "output_type": "stream",
     "text": [
      "14-->11-->10-->18-->8-->5-->"
     ]
    }
   ],
   "source": [
    "ll.insert(18, 10)\n",
    "ll.print_ll()"
   ]
  },
  {
   "cell_type": "code",
   "execution_count": 14,
   "id": "b2cce951",
   "metadata": {},
   "outputs": [
    {
     "name": "stdout",
     "output_type": "stream",
     "text": [
      "14-->11-->10-->18-->121-->8-->5-->"
     ]
    }
   ],
   "source": [
    "ll.insert(121, 18)\n",
    "ll.print_ll()"
   ]
  },
  {
   "cell_type": "code",
   "execution_count": 15,
   "id": "dbef20f7",
   "metadata": {},
   "outputs": [
    {
     "name": "stdout",
     "output_type": "stream",
     "text": [
      "14-->11-->10-->121-->8-->5-->"
     ]
    }
   ],
   "source": [
    "ll.delete(18)\n",
    "ll.print_ll()"
   ]
  },
  {
   "cell_type": "code",
   "execution_count": 16,
   "id": "ec2ec57d",
   "metadata": {},
   "outputs": [
    {
     "name": "stdout",
     "output_type": "stream",
     "text": [
      "14-->11-->10-->121-->8-->"
     ]
    }
   ],
   "source": [
    "ll.delete(5)\n",
    "ll.print_ll()"
   ]
  },
  {
   "cell_type": "code",
   "execution_count": 412,
   "id": "c700058e",
   "metadata": {},
   "outputs": [
    {
     "data": {
      "text/plain": [
       "True"
      ]
     },
     "execution_count": 412,
     "metadata": {},
     "output_type": "execute_result"
    }
   ],
   "source": [
    "ll.search(10)"
   ]
  },
  {
   "cell_type": "code",
   "execution_count": 17,
   "id": "b8e06a93",
   "metadata": {},
   "outputs": [
    {
     "data": {
      "text/plain": [
       "False"
      ]
     },
     "execution_count": 17,
     "metadata": {},
     "output_type": "execute_result"
    }
   ],
   "source": [
    "ll.search(100)"
   ]
  },
  {
   "cell_type": "code",
   "execution_count": 18,
   "id": "730e7667",
   "metadata": {},
   "outputs": [
    {
     "name": "stdout",
     "output_type": "stream",
     "text": [
      "3-->2-->1-->"
     ]
    }
   ],
   "source": [
    "ll1 = Linked_List()\n",
    "ll1.insertFirst(1)\n",
    "ll1.insertFirst(2)\n",
    "ll1.insertFirst(3)\n",
    "\n",
    "\n",
    "ll1.print_ll()"
   ]
  },
  {
   "cell_type": "code",
   "execution_count": 20,
   "id": "caf4025a",
   "metadata": {},
   "outputs": [
    {
     "name": "stdout",
     "output_type": "stream",
     "text": [
      "6-->5-->4-->"
     ]
    }
   ],
   "source": [
    "ll2 = Linked_List()\n",
    "ll2.insertFirst(4)\n",
    "ll2.insertFirst(5)\n",
    "ll2.insertFirst(6)\n",
    "ll2.print_ll()\n",
    "\n"
   ]
  },
  {
   "cell_type": "code",
   "execution_count": 21,
   "id": "0fd61c67",
   "metadata": {},
   "outputs": [
    {
     "name": "stdout",
     "output_type": "stream",
     "text": [
      "1-->2-->3-->4-->5-->6-->"
     ]
    }
   ],
   "source": [
    "new = ll1.merge(ll2.head)\n",
    "new.print_ll()\n"
   ]
  }
 ],
 "metadata": {
  "kernelspec": {
   "display_name": "Python 3",
   "language": "python",
   "name": "python3"
  },
  "language_info": {
   "codemirror_mode": {
    "name": "ipython",
    "version": 3
   },
   "file_extension": ".py",
   "mimetype": "text/x-python",
   "name": "python",
   "nbconvert_exporter": "python",
   "pygments_lexer": "ipython3",
   "version": "3.10.7"
  },
  "vscode": {
   "interpreter": {
    "hash": "aee8b7b246df8f9039afb4144a1f6fd8d2ca17a180786b69acc140d282b71a49"
   }
  }
 },
 "nbformat": 4,
 "nbformat_minor": 5
}
