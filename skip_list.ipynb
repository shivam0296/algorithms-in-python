{
 "cells": [
  {
   "cell_type": "code",
   "execution_count": 1,
   "id": "803c3fc3",
   "metadata": {},
   "outputs": [],
   "source": [
    "# Skip list implementation\n",
    "\n",
    "import random\n",
    "import math\n",
    "\n",
    "class Node:\n",
    "    \n",
    "    def __init__(self, val, level):\n",
    "        self.val = val\n",
    "        self.next_levels = [None] * (level + 1)\n",
    "\n",
    "class LookUpSkipList:\n",
    "    \n",
    "    def __init__(self, wordlist, p):\n",
    "        self.max_level = int(math.log2(len(wordlist)))\n",
    "        self.p = p\n",
    "        self.words = wordlist\n",
    "        self.lvl = 0\n",
    "        self.header = self.create_node(self.max_level, -1)\n",
    "     \n",
    "    def get_random_level(self):\n",
    "        lvl = 0\n",
    "        while random.random() < self.p and lvl < self.max_level:\n",
    "            lvl += 1\n",
    "        return lvl\n",
    "    \n",
    "    def create_node(self, lvl, val):\n",
    "        n = Node(val, lvl)\n",
    "        return n\n",
    "    \n",
    "    def look_up_search(self, word):\n",
    "        \n",
    "        current = self.header\n",
    "  \n",
    "        for i in range(self.lvl, -1, -1):\n",
    "            while(current.next_levels[i] and current.next_levels[i].val < word):\n",
    "                current = current.next_levels[i]\n",
    "  \n",
    "        current = current.next_levels[0]\n",
    "  \n",
    "        if current and current.val == word:\n",
    "            print(\"Found the word: \", word)\n",
    "        else: print(\"Word not found \")\n",
    "    \n",
    "    \n",
    "    def insert(self, word):\n",
    "        \n",
    "        update = [None] * (self.max_level + 1)\n",
    "        current = self.header\n",
    "        \n",
    "        for i in range(self.lvl, -1, -1):\n",
    "            while current.next_levels[i] and current.next_levels[i].val < word:\n",
    "                current = current.next_levels[i]\n",
    "            update[i] = current\n",
    "        \n",
    "        current = current.next_levels[0]\n",
    "        \n",
    "        if current == None or current.val != word:\n",
    "            nlvl = self.get_random_level()\n",
    "            if nlvl > self.lvl:\n",
    "                for i in range(self.lvl + 1, nlvl + 1):\n",
    "                    update[i] = self.header\n",
    "                self.lvl = nlvl\n",
    " \n",
    "            n = self.create_node(nlvl, word)\n",
    " \n",
    "            for i in range(nlvl + 1):\n",
    "                n.next_levels[i] = update[i].next_levels[i]\n",
    "                update[i].next_levels[i] = n\n",
    " \n",
    "            print(f\"inserted word: {word}\")\n",
    "    \n",
    "    def construct_skip_list(self):\n",
    "        for word in self.words:\n",
    "            self.insert(word)\n",
    "    \n",
    "    def delete(self, word):\n",
    "        \n",
    "        update = [None]*(self.max_level + 1)\n",
    "        current = self.header\n",
    "  \n",
    "        for i in range(self.lvl, -1, -1):\n",
    "            while(current.next_levels[i] and current.next_levels[i].val < word):\n",
    "                current = current.next_levels[i]\n",
    "            update[i] = current\n",
    "            \n",
    "        current = current.next_levels[0]\n",
    "  \n",
    "        if current != None and current.val == word:\n",
    "            for i in range(self.lvl + 1):\n",
    "                if update[i].next_levels[i] != current:\n",
    "                    break\n",
    "            \n",
    "                update[i].next_levels[i] = current.next_levels[i]\n",
    "  \n",
    "            while(self.lvl > 0 and self.header.next_levels[self.lvl] == None):\n",
    "                self.level -= 1\n",
    "            print(f\"deleted {word}\")\n",
    "    \n",
    "    def print_skiplist(self):\n",
    "        \n",
    "        print(\"\\nskip list dictonary :\")\n",
    "        head = self.header\n",
    "        for lvl in range(self.lvl + 1):\n",
    "            print(f\"level {lvl}: \", end=\" \")\n",
    "            node = head.next_levels[lvl]\n",
    "            while(node != None):\n",
    "                print(node.val, end=\" \")\n",
    "                node = node.next_levels[lvl]\n",
    "            print(\" \")\n",
    "                "
   ]
  },
  {
   "cell_type": "code",
   "execution_count": 112,
   "id": "d4638803",
   "metadata": {},
   "outputs": [],
   "source": [
    "skip_list = LookUpSkipList(['iub','usa', 'there', 'sort', 'god'], 0.6)"
   ]
  },
  {
   "cell_type": "code",
   "execution_count": 113,
   "id": "a63fa774",
   "metadata": {},
   "outputs": [
    {
     "name": "stdout",
     "output_type": "stream",
     "text": [
      "inserted word: iub\n",
      "inserted word: usa\n",
      "inserted word: there\n",
      "inserted word: sort\n",
      "inserted word: god\n",
      "\n",
      "skip list dictonary :\n",
      "level 0:  god iub sort there usa  \n",
      "level 1:  god sort there usa  \n",
      "level 2:  god there  \n"
     ]
    }
   ],
   "source": [
    "skip_list.construct_skip_list()\n",
    "skip_list.print_skiplist()"
   ]
  },
  {
   "cell_type": "code",
   "execution_count": 114,
   "id": "81db0bce",
   "metadata": {},
   "outputs": [
    {
     "name": "stdout",
     "output_type": "stream",
     "text": [
      "inserted word: apple\n",
      "\n",
      "skip list dictonary :\n",
      "level 0:  apple god iub sort there usa  \n",
      "level 1:  god sort there usa  \n",
      "level 2:  god there  \n"
     ]
    }
   ],
   "source": [
    "skip_list.insert('apple')\n",
    "skip_list.print_skiplist()"
   ]
  },
  {
   "cell_type": "code",
   "execution_count": 116,
   "id": "d3652489",
   "metadata": {},
   "outputs": [
    {
     "name": "stdout",
     "output_type": "stream",
     "text": [
      "Found the word:  god\n"
     ]
    }
   ],
   "source": [
    "skip_list.look_up_search('god')"
   ]
  },
  {
   "cell_type": "code",
   "execution_count": 117,
   "id": "b7b94795",
   "metadata": {},
   "outputs": [
    {
     "name": "stdout",
     "output_type": "stream",
     "text": [
      "deleted apple\n",
      "deleted there\n",
      "\n",
      "skip list dictonary :\n",
      "level 0:  god iub sort usa  \n",
      "level 1:  god sort usa  \n",
      "level 2:  god  \n"
     ]
    }
   ],
   "source": [
    "skip_list.delete('apple')\n",
    "skip_list.delete('there')\n",
    "skip_list.print_skiplist()"
   ]
  },
  {
   "cell_type": "code",
   "execution_count": 118,
   "id": "467bc12b-fb76-4f54-b0b4-fab65bde1749",
   "metadata": {},
   "outputs": [],
   "source": []
  },
  {
   "cell_type": "code",
   "execution_count": null,
   "id": "77f48135",
   "metadata": {},
   "outputs": [],
   "source": []
  },
  {
   "cell_type": "code",
   "execution_count": null,
   "id": "47d7c96d",
   "metadata": {},
   "outputs": [],
   "source": []
  },
  {
   "cell_type": "code",
   "execution_count": 130,
   "id": "3a6f05be",
   "metadata": {},
   "outputs": [],
   "source": [
    "\n"
   ]
  },
  {
   "cell_type": "code",
   "execution_count": null,
   "id": "987a1fb1-7fc2-4f82-9db6-11b5f9f838d7",
   "metadata": {},
   "outputs": [],
   "source": []
  },
  {
   "cell_type": "code",
   "execution_count": null,
   "id": "4ac7163b-83d2-48c7-bb2f-d7b3866b231e",
   "metadata": {},
   "outputs": [],
   "source": []
  },
  {
   "cell_type": "code",
   "execution_count": null,
   "id": "7c4808c1-3ae7-4869-bf71-f638a3f0dc87",
   "metadata": {},
   "outputs": [],
   "source": []
  },
  {
   "cell_type": "code",
   "execution_count": null,
   "id": "a9a9c0f0-9257-45c4-a8b1-4a3c228fcf51",
   "metadata": {},
   "outputs": [],
   "source": []
  }
 ],
 "metadata": {
  "kernelspec": {
   "display_name": "Python 3",
   "language": "python",
   "name": "python3"
  },
  "language_info": {
   "codemirror_mode": {
    "name": "ipython",
    "version": 3
   },
   "file_extension": ".py",
   "mimetype": "text/x-python",
   "name": "python",
   "nbconvert_exporter": "python",
   "pygments_lexer": "ipython3",
   "version": "3.10.7"
  },
  "vscode": {
   "interpreter": {
    "hash": "aee8b7b246df8f9039afb4144a1f6fd8d2ca17a180786b69acc140d282b71a49"
   }
  }
 },
 "nbformat": 4,
 "nbformat_minor": 5
}
