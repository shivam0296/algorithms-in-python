{
 "cells": [
  {
   "cell_type": "code",
   "execution_count": 1,
   "id": "9fa9a99c",
   "metadata": {},
   "outputs": [],
   "source": [
    "#shimish@iu.edu\n",
    "\n",
    "#Binary tree implementation\n",
    "\n",
    "\n",
    "class Node:\n",
    "    \n",
    "    def __init__(self, data, left=None, right=None):\n",
    "        \n",
    "        self.data = data\n",
    "        self.left = left\n",
    "        self.right = right\n",
    "        \n",
    "    \n",
    "class BST:\n",
    "    \n",
    "    def __init__(self, node):\n",
    "        \n",
    "        self.root = node\n",
    "        \n",
    "        \n",
    "    def contains(self, data):\n",
    "        \n",
    "        if self.root:\n",
    "            if data == self.root.data:\n",
    "                return True\n",
    "            elif data > self.root.data:\n",
    "                return BST(self.root.right).contains(data)\n",
    "            else:\n",
    "                return BST(self.root.left).contains(data)\n",
    "            \n",
    "        return False\n",
    "    \n",
    "    \n",
    "    def __contains__(self, data):\n",
    "        return self.contains(data)\n",
    "    \n",
    "    \n",
    "    def insert(self, data):\n",
    "\n",
    "        if self.root == None:\n",
    "            self.root = Node(data)\n",
    "        else: \n",
    "            if data == self.root.data:\n",
    "                return self.root\n",
    "            elif data > self.root.data:\n",
    "                self.root.right = BST(self.root.right).insert(data)\n",
    "            else:\n",
    "                self.root.left = BST(self.root.left).insert(data)\n",
    "                \n",
    "        return self.root\n",
    "    \n",
    "        \n",
    "    def delete(self, data):\n",
    "        \n",
    "        if not self.root:\n",
    "            return self.root\n",
    "  \n",
    "        if data < self.root.data:\n",
    "            self.root.left = BST(self.root.left).delete(data)\n",
    "  \n",
    "   \n",
    "        elif data > self.root.data:\n",
    "            self.root.right = BST(self.root.right).delete(data)\n",
    "  \n",
    "        else:\n",
    "            if not self.root.left:\n",
    "                t = self.root.right\n",
    "                self.root = None\n",
    "                return t\n",
    "  \n",
    "            elif not self.root.right:\n",
    "                t = self.root.left\n",
    "                self.root = None\n",
    "                return t\n",
    "  \n",
    "            t = self.min(self.root.right)\n",
    "            self.root.data = t.data\n",
    "            self.root.right = BST(self.root.right).delete(t.data)\n",
    "\n",
    "        return self.root\n",
    "\n",
    "\n",
    "    def preorder(self):\n",
    "        res = []\n",
    "        if self.root:\n",
    "            res.append(self.root.data)\n",
    "            res.extend(BST(self.root.left).preorder())\n",
    "            res.extend(BST(self.root.right).preorder())\n",
    "    \n",
    "        return res\n",
    "\n",
    "    \n",
    "    def postorder(self):\n",
    "        res = []\n",
    "        if self.root:\n",
    "            res.extend(BST(self.root.left).postorder())\n",
    "            res.extend(BST(self.root.right).postorder())\n",
    "            res.append(self.root.data)\n",
    "    \n",
    "        return res\n",
    "\n",
    "    \n",
    "    def inorder(self):\n",
    "        res = []\n",
    "        if self.root:\n",
    "            res.extend(BST(self.root.left).inorder())\n",
    "            res.append(self.root.data)\n",
    "\n",
    "            res.extend(BST(self.root.right).inorder())\n",
    "    \n",
    "        return res\n",
    "            \n",
    "        \n",
    "    def level_order(self):\n",
    "        l = {}\n",
    "        res = []\n",
    "        if not self.root:\n",
    "            return l\n",
    "        \n",
    "        def lvl_helper(node, level):\n",
    "            if len(l) == level:\n",
    "                l[level] = []\n",
    "\n",
    "            l[level].append(node.data)\n",
    "\n",
    "            if node.left:\n",
    "                lvl_helper(node.left, level + 1)\n",
    "            if node.right:\n",
    "                lvl_helper(node.right, level + 1)\n",
    "            \n",
    "        lvl_helper(self.root,0)\n",
    "        \n",
    "        for val in l.values():\n",
    "            res.extend(val)\n",
    "            \n",
    "        return res\n",
    "    \n",
    "\n",
    "    def diameter(self):\n",
    "        \n",
    "        d = 0\n",
    "        def longest_node_path(node):\n",
    "            if not node:\n",
    "                return 0\n",
    "            nonlocal d\n",
    "            left_path = longest_node_path(node.left)\n",
    "            right_path = longest_node_path(node.right)\n",
    "            d = max(d, left_path + right_path)\n",
    "            return max(left_path, right_path) + 1\n",
    "        \n",
    "        longest_node_path(self.root)\n",
    "        return d\n",
    "\n",
    "    \n",
    "    def height(self):\n",
    "        \n",
    "        def tree_height(root):\n",
    "            if not root:\n",
    "                return 0\n",
    "            else:\n",
    "                left_height = tree_height(root.left)\n",
    "                right_height = tree_height(root.right)\n",
    "                return left_height + 1 if left_height > right_height else right_height + 1\n",
    "        \n",
    "        return tree_height(self.root) - 1\n",
    "\n",
    "    \n",
    "    def min(self, node):\n",
    "        c = node\n",
    "        while(c.left):\n",
    "            c = c.left\n",
    "        return c\n",
    "\n",
    "            \n",
    "    def max(self):\n",
    "        \n",
    "        max_res = 0\n",
    "        def max_node(root, max_res):\n",
    "            if not root:\n",
    "                return max_res\n",
    "            if root.data > max_res:\n",
    "                max_res = root.data\n",
    "                return max_node(root.right, max_res)\n",
    "        \n",
    "        res = max_node(self.root, max_res)\n",
    "        return res\n",
    "    "
   ]
  },
  {
   "cell_type": "code",
   "execution_count": 2,
   "id": "22d3833b",
   "metadata": {},
   "outputs": [],
   "source": [
    "nodel = Node(5, Node(1), Node(7))\n",
    "noder = Node(15, Node(12), Node(17))\n",
    "bst = BST(Node(10, nodel, noder))"
   ]
  },
  {
   "cell_type": "code",
   "execution_count": 3,
   "id": "637b42a9",
   "metadata": {},
   "outputs": [
    {
     "data": {
      "text/plain": [
       "[1, 5, 7, 10, 12, 15, 17]"
      ]
     },
     "execution_count": 3,
     "metadata": {},
     "output_type": "execute_result"
    }
   ],
   "source": [
    "bst.inorder()"
   ]
  },
  {
   "cell_type": "code",
   "execution_count": 4,
   "id": "c268a5f3",
   "metadata": {},
   "outputs": [
    {
     "data": {
      "text/plain": [
       "[1, 7, 5, 12, 17, 15, 10]"
      ]
     },
     "execution_count": 4,
     "metadata": {},
     "output_type": "execute_result"
    }
   ],
   "source": [
    "bst.postorder()"
   ]
  },
  {
   "cell_type": "code",
   "execution_count": 5,
   "id": "151e45ef",
   "metadata": {},
   "outputs": [
    {
     "data": {
      "text/plain": [
       "[10, 5, 1, 7, 15, 12, 17]"
      ]
     },
     "execution_count": 5,
     "metadata": {},
     "output_type": "execute_result"
    }
   ],
   "source": [
    "bst.preorder()"
   ]
  },
  {
   "cell_type": "code",
   "execution_count": 6,
   "id": "aa376f10",
   "metadata": {},
   "outputs": [
    {
     "data": {
      "text/plain": [
       "[10, 5, 15, 1, 7, 12, 17]"
      ]
     },
     "execution_count": 6,
     "metadata": {},
     "output_type": "execute_result"
    }
   ],
   "source": [
    "bst.level_order()"
   ]
  },
  {
   "cell_type": "code",
   "execution_count": 7,
   "id": "fd1f8a35",
   "metadata": {},
   "outputs": [
    {
     "data": {
      "text/plain": [
       "True"
      ]
     },
     "execution_count": 7,
     "metadata": {},
     "output_type": "execute_result"
    }
   ],
   "source": [
    "1 in bst"
   ]
  },
  {
   "cell_type": "code",
   "execution_count": 8,
   "id": "c56c1bd2",
   "metadata": {},
   "outputs": [
    {
     "data": {
      "text/plain": [
       "True"
      ]
     },
     "execution_count": 8,
     "metadata": {},
     "output_type": "execute_result"
    }
   ],
   "source": [
    "100 not in bst"
   ]
  },
  {
   "cell_type": "code",
   "execution_count": 9,
   "id": "d2e648ed",
   "metadata": {},
   "outputs": [
    {
     "data": {
      "text/plain": [
       "4"
      ]
     },
     "execution_count": 9,
     "metadata": {},
     "output_type": "execute_result"
    }
   ],
   "source": [
    "bst.diameter()"
   ]
  },
  {
   "cell_type": "code",
   "execution_count": 10,
   "id": "0176643d",
   "metadata": {},
   "outputs": [
    {
     "data": {
      "text/plain": [
       "17"
      ]
     },
     "execution_count": 10,
     "metadata": {},
     "output_type": "execute_result"
    }
   ],
   "source": [
    "bst.max()"
   ]
  },
  {
   "cell_type": "code",
   "execution_count": 11,
   "id": "4459c8b5",
   "metadata": {},
   "outputs": [
    {
     "data": {
      "text/plain": [
       "2"
      ]
     },
     "execution_count": 11,
     "metadata": {},
     "output_type": "execute_result"
    }
   ],
   "source": [
    "bst.height()"
   ]
  },
  {
   "cell_type": "code",
   "execution_count": 12,
   "id": "76cb669c",
   "metadata": {},
   "outputs": [
    {
     "data": {
      "text/plain": [
       "[5, 7, 10, 12, 15, 17]"
      ]
     },
     "execution_count": 12,
     "metadata": {},
     "output_type": "execute_result"
    }
   ],
   "source": [
    "bst.delete(1)\n",
    "bst.inorder()"
   ]
  },
  {
   "cell_type": "code",
   "execution_count": 13,
   "id": "515c0b06",
   "metadata": {},
   "outputs": [
    {
     "data": {
      "text/plain": [
       "[5, 7, 12, 15, 17]"
      ]
     },
     "execution_count": 13,
     "metadata": {},
     "output_type": "execute_result"
    }
   ],
   "source": [
    "bst.delete(10)\n",
    "bst.inorder()"
   ]
  },
  {
   "cell_type": "code",
   "execution_count": 14,
   "id": "a81284ca",
   "metadata": {},
   "outputs": [
    {
     "data": {
      "text/plain": [
       "[5, 7, 15, 17]"
      ]
     },
     "execution_count": 14,
     "metadata": {},
     "output_type": "execute_result"
    }
   ],
   "source": [
    "bst.delete(12)\n",
    "bst.inorder()"
   ]
  },
  {
   "cell_type": "code",
   "execution_count": 15,
   "id": "200b738b",
   "metadata": {},
   "outputs": [],
   "source": [
    "bst2 = BST (Node (10, None, Node(15)))"
   ]
  },
  {
   "cell_type": "code",
   "execution_count": 16,
   "id": "f2de1379",
   "metadata": {},
   "outputs": [
    {
     "data": {
      "text/plain": [
       "[9, 10, 11, 12, 15, 16]"
      ]
     },
     "execution_count": 16,
     "metadata": {},
     "output_type": "execute_result"
    }
   ],
   "source": [
    "bst2.insert(12)\n",
    "bst2.insert(16)\n",
    "bst2.insert(9)\n",
    "bst2.insert(11)\n",
    "bst2.inorder()"
   ]
  },
  {
   "cell_type": "code",
   "execution_count": 17,
   "id": "0ff2459e",
   "metadata": {},
   "outputs": [
    {
     "data": {
      "text/plain": [
       "[10, 9, 15, 12, 11, 16]"
      ]
     },
     "execution_count": 17,
     "metadata": {},
     "output_type": "execute_result"
    }
   ],
   "source": [
    "bst2.preorder()"
   ]
  },
  {
   "cell_type": "code",
   "execution_count": 18,
   "id": "1051bd27",
   "metadata": {},
   "outputs": [
    {
     "data": {
      "text/plain": [
       "[10, 9, 15, 12, 16, 11]"
      ]
     },
     "execution_count": 18,
     "metadata": {},
     "output_type": "execute_result"
    }
   ],
   "source": [
    "bst2.level_order()"
   ]
  },
  {
   "cell_type": "code",
   "execution_count": 19,
   "id": "b02ab93c",
   "metadata": {},
   "outputs": [
    {
     "data": {
      "text/plain": [
       "[9, 11, 12, 16, 15, 10]"
      ]
     },
     "execution_count": 19,
     "metadata": {},
     "output_type": "execute_result"
    }
   ],
   "source": [
    "bst2.postorder()"
   ]
  },
  {
   "cell_type": "code",
   "execution_count": 20,
   "id": "c2944712",
   "metadata": {},
   "outputs": [
    {
     "data": {
      "text/plain": [
       "4"
      ]
     },
     "execution_count": 20,
     "metadata": {},
     "output_type": "execute_result"
    }
   ],
   "source": [
    "bst2.diameter()"
   ]
  },
  {
   "cell_type": "code",
   "execution_count": 22,
   "id": "8639a073",
   "metadata": {},
   "outputs": [
    {
     "data": {
      "text/plain": [
       "[9, 11, 12, 15, 16]"
      ]
     },
     "execution_count": 22,
     "metadata": {},
     "output_type": "execute_result"
    }
   ],
   "source": [
    "bst2.delete(10)\n",
    "bst2.inorder()"
   ]
  }
 ],
 "metadata": {
  "kernelspec": {
   "display_name": "Python 3 (ipykernel)",
   "language": "python",
   "name": "python3"
  },
  "language_info": {
   "codemirror_mode": {
    "name": "ipython",
    "version": 3
   },
   "file_extension": ".py",
   "mimetype": "text/x-python",
   "name": "python",
   "nbconvert_exporter": "python",
   "pygments_lexer": "ipython3",
   "version": "3.9.12"
  }
 },
 "nbformat": 4,
 "nbformat_minor": 5
}
